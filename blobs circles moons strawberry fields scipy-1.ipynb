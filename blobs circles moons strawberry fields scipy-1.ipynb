{
 "cells": [
  {
   "cell_type": "markdown",
   "id": "469da9a5",
   "metadata": {},
   "source": [
    "# Blobs Circles Moons strawberry fields"
   ]
  },
  {
   "cell_type": "code",
   "execution_count": 1,
   "id": "17216257",
   "metadata": {},
   "outputs": [],
   "source": [
    "from qutip import destroy\n",
    "import strawberryfields as sf\n",
    "from strawberryfields.ops import *\n",
    "import numpy as np\n",
    "import scipy.optimize\n",
    "import matplotlib.pyplot as plt\n",
    "import matplotlib as mpl\n",
    "from matplotlib import colors, colorbar, cm\n",
    "import time\n",
    "from tqdm.notebook import tqdm"
   ]
  },
  {
   "cell_type": "markdown",
   "id": "f431aafe",
   "metadata": {},
   "source": [
    "1-moodeののQNNを構成する"
   ]
  },
  {
   "cell_type": "code",
   "execution_count": 2,
   "id": "7260f9ce",
   "metadata": {},
   "outputs": [],
   "source": [
    "def one_mode_variational_quantum_circuit_cubic(params, depth, input_state=None):\n",
    "    # Gate layer: R-S-R-D-K\n",
    "    def layer(i, q):\n",
    "        Rgate(params[i*7+0])                | q\n",
    "        Sgate(params[i*7+1], params[i*7+2]) | q\n",
    "        Rgate(params[i*7+3])                | q\n",
    "        Dgate(params[i*7+4], params[i*7+5]) | q\n",
    "        Vgate(params[i*7+6])                | q\n",
    "        return q\n",
    "    \n",
    "    # Start SF program\n",
    "    prog = sf.Program(1)\n",
    "\n",
    "    # construct the circuit\n",
    "    with prog.context as q:\n",
    "        if input_state is not None:\n",
    "            Ket(input_state) | q\n",
    "        else:\n",
    "            Vacuum() | q\n",
    "        for k in range(depth):\n",
    "            q = layer(k, q)\n",
    "    \n",
    "    eng = sf.Engine(\"fock\", backend_options={\"cutoff_dim\": dim})\n",
    "    state = eng.run(prog).state\n",
    "    ket = state.ket()\n",
    "    return ket"
   ]
  },
  {
   "cell_type": "code",
   "execution_count": 3,
   "id": "f4424004",
   "metadata": {},
   "outputs": [],
   "source": [
    "def one_mode_U(x1_0, x2_0):\n",
    "    x = np.array([x1_0, x2_0])\n",
    "    params = (x @ u + v) / 1\n",
    "    phi = one_mode_variational_quantum_circuit_cubic(params, depth_U)\n",
    "    return phi\n",
    "\n",
    "def one_mode_expect_Fock(psi):\n",
    "    n = np.zeros(dim)\n",
    "    prob = np.real(np.conjugate(psi) * psi)\n",
    "    fock_basis = np.arange(dim)\n",
    "    '''\n",
    "    prob_posi = 0\n",
    "    prob_nega = 0\n",
    "    for i in range(dim):\n",
    "        if i % 2 == 0:\n",
    "            prob_posi += prob[i]\n",
    "        else:\n",
    "            prob_nega += prob[i]\n",
    "    '''\n",
    "    return np.sum(fock_basis * prob) #, prob_posi, prob_nega\n",
    "\n",
    "def one_mode_expect_X(psi):\n",
    "    # 測定用の演算子\n",
    "    x = 1/np.sqrt(2) * (adag + a)\n",
    "    \n",
    "    # それぞれのモードをx = 1/√2 (a† + a)で測定\n",
    "    expect_value = np.conjugate(psi.T) @ x @ psi\n",
    "    return expect_value"
   ]
  },
  {
   "cell_type": "markdown",
   "id": "e2c6bb9f",
   "metadata": {},
   "source": [
    "Cost関数を定義。ここではbinary cross entropyとする。\n",
    "\n",
    "$C(\\theta) = -1/N \\sum_{n=1}^{N} [t_n \\log{y_n} + (1 - t_n) \\log{(1 - y_n)}]$\n",
    "\n",
    "$t_n$は正解の0,1、$y_n$は分類器によって出力された0,1"
   ]
  },
  {
   "cell_type": "code",
   "execution_count": 4,
   "id": "2fbfca48",
   "metadata": {},
   "outputs": [],
   "source": [
    "def discriminator(x1_0, x2_0, params):\n",
    "    phi = one_mode_U(x1_0, x2_0)\n",
    "    state = one_mode_variational_quantum_circuit_cubic(params, depth, phi)\n",
    "    expect_value = one_mode_expect_Fock(state)\n",
    "\n",
    "    # シグモイド関数により0 - 1にする\n",
    "    result = 1 / (1 + np.exp(10*(params[7*depth] - expect_value)))\n",
    "    return result\n",
    "    \n",
    "def get_cost(y, t):\n",
    "    delta = 1e-12 # logの中身が0にならないようにするため\n",
    "    return -np.sum(t * np.log(y+delta) + (1-t) * np.log(1-y+delta)) / len(y)\n",
    "\n",
    "def cost(params):\n",
    "    y = np.zeros(len(t))\n",
    "    for i in range(len(t)):\n",
    "        y[i] = discriminator(x1[i], x2[i], params)\n",
    "    c = get_cost(y, t)\n",
    "    return c\n",
    "\n",
    "# callback用の関数\n",
    "def callback(params):\n",
    "    params_history.append(params)\n",
    "    co = cost(params)\n",
    "    cost_history.append(co)\n",
    "    print(len(cost_history)-1,'cost', co)"
   ]
  },
  {
   "cell_type": "code",
   "execution_count": 17,
   "id": "a5767a2b",
   "metadata": {},
   "outputs": [
    {
     "name": "stdout",
     "output_type": "stream",
     "text": [
      "u [[ 0.43850091 -0.08240727 -0.20858149  0.11502725 -0.43303765  0.27727129\n",
      "   0.46762725]\n",
      " [-0.2869331  -0.15892388  0.20760404 -0.17663387 -0.41519595 -0.36893826\n",
      "  -0.05766338]]\n",
      "v [ 0.47610275  0.42101565 -0.39993243 -0.31259668  0.37989942  0.24049534\n",
      " -0.30944022]\n"
     ]
    }
   ],
   "source": [
    "dim = 50\n",
    "_a = destroy(dim)\n",
    "a = _a.full()\n",
    "adag = np.conjugate(a.T)\n",
    "\n",
    "depth_U = 1\n",
    "depth_V = 1\n",
    "\n",
    "# パラメータの決定\n",
    "g = 1\n",
    "#np.random.seed(1)\n",
    "u = (g*np.random.rand(2,7*depth_U) - g/2) / 1\n",
    "v = (g*np.random.rand(7*depth_U) - g/2) / 1\n",
    "'''\n",
    "u = np.array([[-0.49201056,  0.46031398,  0.11182869, -0.36183352,  0.2961122,   0.26468657,\n",
    "  -0.44251039],\n",
    " [ 0.0359517,   0.16110539 , 0.11427918,  0.18337387, -0.00461446, -0.23381862,\n",
    "  -0.10574061]])\n",
    "v = np.array([ 0.09133706, -0.36032127, -0.18590361,  0.11834946, -0.15407532,  0.11210203,\n",
    " -0.44292793])\n",
    "'''\n",
    "print('u',u)\n",
    "print('v',v)"
   ]
  },
  {
   "cell_type": "markdown",
   "id": "384d88b0",
   "metadata": {},
   "source": [
    "## Moons"
   ]
  },
  {
   "cell_type": "code",
   "execution_count": 18,
   "id": "4fa1c2e2",
   "metadata": {},
   "outputs": [
    {
     "name": "stdout",
     "output_type": "stream",
     "text": [
      "[-0.29029155  0.3456798   0.47916806 -1.03727167  1.23047539  0.57319032\n",
      "  0.84445679  1.03043774 -0.8683864   0.43467891 -0.25779211 -0.06380638\n",
      "  0.88465564  0.19693141 -0.92806637  0.63697653  0.60432816  0.70826732\n",
      "  0.61294293 -0.00410577 -1.00634662 -0.81896547 -0.63945885  0.89675433\n",
      " -0.19732942  0.85148424  0.47775303 -0.88271286 -0.01009895  0.5410771\n",
      " -0.49504722 -0.77188558  0.27333581  0.64996669  0.96953943 -0.07126385\n",
      " -0.70972406 -0.09525888 -0.83394716  0.90187187 -0.97813319 -1.05216207\n",
      " -0.92084284  1.04835153 -0.73226442  0.25473738 -0.85400026  0.45907629\n",
      " -0.79158713  0.63764944 -0.06302218  1.81106918  2.04225275  1.8000829\n",
      "  1.44904639  0.02948083  0.30019474  1.36427172  0.53047052  1.26207055\n",
      "  1.96326895  1.41790883  1.9996195   1.75712895  1.88551312  1.68086865\n",
      "  1.67317114  0.0853685  -0.03148348  2.12683121 -0.0459764   1.94445766\n",
      "  0.35221223  0.03906502  0.00564964  1.70237421  1.65460849  0.04762763\n",
      "  2.02780341  0.55131617  0.13522648  0.39260198  0.05014955  1.85133663\n",
      "  1.25490434  1.67693985  0.01724553  0.00714293  0.07462738  1.22130417\n",
      "  0.38311672  2.07777251  0.38127121  2.00196492  1.50589392  1.8798169\n",
      "  1.20623984  0.11461769  1.96716839  2.01452299]\n",
      "[0. 0. 0. 0. 0. 0. 0. 0. 0. 0. 0. 0. 0. 0. 0. 0. 0. 0. 0. 0. 0. 0. 0. 0.\n",
      " 0. 0. 0. 0. 0. 0. 0. 0. 0. 0. 0. 0. 0. 0. 0. 0. 0. 0. 0. 0. 0. 0. 0. 0.\n",
      " 0. 0. 1. 1. 1. 1. 1. 1. 1. 1. 1. 1. 1. 1. 1. 1. 1. 1. 1. 1. 1. 1. 1. 1.\n",
      " 1. 1. 1. 1. 1. 1. 1. 1. 1. 1. 1. 1. 1. 1. 1. 1. 1. 1. 1. 1. 1. 1. 1. 1.\n",
      " 1. 1. 1. 1.]\n"
     ]
    },
    {
     "data": {
      "image/png": "[encoded data removed]",
      "text/plain": [
       "<Figure size 576x504 with 1 Axes>"
      ]
     },
     "metadata": {
      "needs_background": "light"
     },
     "output_type": "display_data"
    }
   ],
   "source": [
    "from sklearn.datasets import make_moons\n",
    "\n",
    "n_each_data_train = 50\n",
    "n_each_data_test = 50\n",
    " \n",
    "x, y = make_moons(n_samples=2*(n_each_data_train+n_each_data_test), shuffle = True,\n",
    "                  noise=0.1, random_state=True,)\n",
    "\n",
    "x1_t0, x2_t0 = x[y==0,0], x[y==0,1]\n",
    "x1_t1, x2_t1 = x[y==1,0], x[y==1,1]\n",
    "\n",
    "x1_t0_train = x1_t0[0:n_each_data_train]\n",
    "x2_t0_train = x2_t0[0:n_each_data_train]\n",
    "x1_t1_train = x1_t1[0:n_each_data_train]\n",
    "x2_t1_train = x2_t1[0:n_each_data_train]\n",
    "\n",
    "x1_t0_test = x1_t0[n_each_data_train:n_each_data_train+n_each_data_test]\n",
    "x2_t0_test = x2_t0[n_each_data_train:n_each_data_train+n_each_data_test]\n",
    "x1_t1_test = x1_t1[n_each_data_train:n_each_data_train+n_each_data_test]\n",
    "x2_t1_test = x2_t1[n_each_data_train:n_each_data_train+n_each_data_test]\n",
    "\n",
    "t0_train, t1_train = np.zeros(n_each_data_train), np.ones(n_each_data_train)\n",
    "t0_test, t1_test = np.zeros(n_each_data_test), np.ones(n_each_data_test)\n",
    "\n",
    "x1 = np.concatenate([x1_t0_train, x1_t1_train])\n",
    "x2 = np.concatenate([x2_t0_train, x2_t1_train])\n",
    "t = np.concatenate([t0_train, t1_train])\n",
    "\n",
    "x1_test = np.concatenate([x1_t0_test, x1_t1_test])\n",
    "x2_test = np.concatenate([x2_t0_test, x2_t1_test])\n",
    "t_test = np.concatenate([t0_test, t1_test])\n",
    "\n",
    "print(x1)\n",
    "print(t)\n",
    "\n",
    "plt.figure(figsize=(8, 7))\n",
    " \n",
    "plt.scatter(x1_t0, x2_t0, marker='o', s=25, label=\"t = 0\")\n",
    "plt.scatter(x1_t1, x2_t1, marker='o', s=25, label=\"t = 1\")\n",
    "plt.legend()\n",
    "plt.xlabel(\"x1\")\n",
    "plt.ylabel(\"x2\")\n",
    "plt.show()"
   ]
  },
  {
   "cell_type": "code",
   "execution_count": 19,
   "id": "827061e8",
   "metadata": {},
   "outputs": [
    {
     "name": "stdout",
     "output_type": "stream",
     "text": [
      "1 cost 1.3488193114770146\n",
      "2 cost 1.2430388234832306\n",
      "3 cost 1.0734784649163904\n",
      "4 cost 0.9650035745185005\n",
      "5 cost 0.7661514589201431\n",
      "6 cost 0.5234552028390919\n",
      "7 cost 0.37585724466152115\n",
      "8 cost 0.31622525708430127\n",
      "9 cost 0.24165283081675973\n",
      "10 cost 0.19581839067419246\n",
      "11 cost 0.18414020187955008\n",
      "12 cost 0.1735587076010086\n",
      "13 cost 0.1689126590631057\n",
      "14 cost 0.16153037388999722\n",
      "15 cost 0.15035577561722635\n",
      "16 cost 0.14054395849371787\n",
      "17 cost 0.12878519199576582\n",
      "18 cost 0.11966929338823844\n",
      "19 cost 0.10134885263750337\n",
      "20 cost 0.09496872660442629\n",
      "21 cost 0.09412828418260227\n",
      "22 cost 0.08682575518912429\n",
      "23 cost 0.0760132009452873\n",
      "24 cost 0.06992204738734413\n",
      "25 cost 0.0676172941615202\n",
      "26 cost 0.06373890252043131\n",
      "27 cost 0.061121755646047576\n",
      "28 cost 0.0580052183894978\n",
      "29 cost 0.05628686842712363\n",
      "30 cost 0.05580756229548504\n",
      "31 cost 0.05565208479935763\n",
      "32 cost 0.055486684735660007\n",
      "33 cost 0.05540469107147525\n",
      "34 cost 0.055263900326132404\n",
      "35 cost 0.055019199185377746\n",
      "36 cost 0.054495873897143665\n",
      "37 cost 0.05351376206179172\n",
      "38 cost 0.05278012619490444\n",
      "39 cost 0.05270352501146327\n",
      "40 cost 0.052675851397064585\n",
      "41 cost 0.05266346017709728\n",
      "42 cost 0.052644533787716774\n",
      "43 cost 0.05261747829710166\n",
      "44 cost 0.052570683440349215\n",
      "45 cost 0.05248754196909561\n",
      "46 cost 0.052331895007214815\n",
      "47 cost 0.05155760879682283\n",
      "48 cost 0.05139777085087476\n",
      "49 cost 0.050635535297119005\n",
      "50 cost 0.05002974970588766\n",
      "51 cost 0.04898008880739102\n",
      "52 cost 0.047386570792395416\n",
      "53 cost 0.04723857892833722\n",
      "54 cost 0.047041445993287745\n",
      "55 cost 0.046889465118780935\n",
      "56 cost 0.04682183422759068\n",
      "57 cost 0.04677769137288891\n",
      "58 cost 0.046222006875536514\n",
      "59 cost 0.046163892060114016\n",
      "60 cost 0.04608187488427653\n",
      "61 cost 0.04545419373677975\n",
      "62 cost 0.04465573957432427\n",
      "63 cost 0.04420584955262803\n",
      "64 cost 0.04352697602866468\n",
      "65 cost 0.043304260553541286\n",
      "66 cost 0.04303592886590819\n",
      "67 cost 0.04287199612996789\n",
      "68 cost 0.042671086277139884\n",
      "69 cost 0.042337861564259054\n",
      "70 cost 0.04191676130176112\n",
      "71 cost 0.041757413315882584\n",
      "72 cost 0.04158837284792274\n",
      "73 cost 0.041531924851153104\n",
      "74 cost 0.041481957186880046\n",
      "75 cost 0.041429457153489294\n",
      "76 cost 0.041415115800123366\n",
      "77 cost 0.041406503906578775\n",
      "78 cost 0.041402320604546\n",
      "79 cost 0.041394247915979926\n",
      "80 cost 0.04138050124729596\n",
      "81 cost 0.04135991278713659\n",
      "82 cost 0.0413220700573776\n",
      "83 cost 0.041010735992936524\n",
      "84 cost 0.040491782525721706\n",
      "85 cost 0.039731980381368895\n",
      "86 cost 0.03857338434809077\n",
      "87 cost 0.03362797099405776\n",
      "88 cost 0.03357264500819446\n",
      "89 cost 0.03312134076960676\n",
      "90 cost 0.03238294513629014\n",
      "91 cost 0.03104446742762286\n",
      "92 cost 0.029172965323084433\n",
      "93 cost 0.028310574780692148\n",
      "94 cost 0.026868215181490015\n",
      "95 cost 0.0265553647754621\n",
      "96 cost 0.026243580861308433\n",
      "97 cost 0.025687231735311775\n",
      "98 cost 0.02506071084236599\n",
      "99 cost 0.02450348054306488\n",
      "100 cost 0.024095031459290376\n",
      "Warning: Maximum number of iterations has been exceeded.\n",
      "         Current function value: 0.024095\n",
      "         Iterations: 100\n",
      "         Function evaluations: 1170\n",
      "         Gradient evaluations: 130\n",
      "time 125.5984674 s\n"
     ]
    },
    {
     "data": {
      "image/png": "[encoded data removed]",
      "text/plain": [
       "<Figure size 432x288 with 1 Axes>"
      ]
     },
     "metadata": {
      "needs_background": "light"
     },
     "output_type": "display_data"
    }
   ],
   "source": [
    "depth = 1\n",
    "\n",
    "# 学習\n",
    "params = np.random.normal(0, 0.1, [7*depth + 1]) # 最初のパラメータ\n",
    "maxiter = 100\n",
    "\n",
    "params_history = []\n",
    "params_history.append(params)\n",
    "cost_history = []\n",
    "cost_history.append(cost(params))\n",
    "\n",
    "method = \"BFGS\"\n",
    "options = {\"disp\": True, \"maxiter\": maxiter}\n",
    "\n",
    "start = time.perf_counter()\n",
    "opt = scipy.optimize.minimize(cost, params, method=method,\n",
    "                              callback=lambda x: callback(x), options=options)\n",
    "end = time.perf_counter()\n",
    "\n",
    "print('time', end - start, 's')\n",
    "nit = opt['nit']\n",
    "plt.plot(np.linspace(0, nit, nit+1), cost_history)\n",
    "plt.yscale('log')\n",
    "plt.xlabel('step')\n",
    "plt.ylabel('cost function')\n",
    "plt.show()"
   ]
  },
  {
   "cell_type": "code",
   "execution_count": 20,
   "id": "b60d0bdc",
   "metadata": {},
   "outputs": [
    {
     "name": "stdout",
     "output_type": "stream",
     "text": [
      "initial parameters: [ 0.05754508 -0.08629276  0.11298462 -0.15267042  0.06580368 -0.04502428\n",
      "  0.07229795 -0.0570869 ]\n",
      "learnt_parameters: [-4.06215077  1.23163464 -9.91093203  4.86303663  0.70067597  1.81575965\n",
      "  6.35614786  4.54954638]\n",
      "-------------------------------\n",
      "train dataset\n",
      "teacher label [0 0 0 0 0 0 0 0 0 0 0 0 0 0 0 0 0 0 0 0 0 0 0 0 0 0 0 0 0 0 0 0 0 0 0 0 0\n",
      " 0 0 0 0 0 0 0 0 0 0 0 0 0 1 1 1 1 1 1 1 1 1 1 1 1 1 1 1 1 1 1 1 1 1 1 1 1\n",
      " 1 1 1 1 1 1 1 1 1 1 1 1 1 1 1 1 1 1 1 1 1 1 1 1 1 1]\n",
      "learnt label  [0 0 0 0 0 0 0 0 0 0 0 0 0 0 0 0 0 0 0 0 0 0 0 0 0 0 0 0 0 0 0 0 0 0 1 0 0\n",
      " 0 0 0 0 0 0 0 0 0 0 0 0 0 1 1 1 1 1 1 1 1 1 1 1 1 1 1 1 1 1 1 1 1 1 1 1 1\n",
      " 1 1 1 1 1 1 1 1 1 1 1 1 1 1 1 1 1 1 1 1 1 1 1 1 1 1]\n",
      "number of mislabel: 1.0\n",
      "-------------------------------\n",
      "test dataset\n",
      "teacher label [0 0 0 0 0 0 0 0 0 0 0 0 0 0 0 0 0 0 0 0 0 0 0 0 0 0 0 0 0 0 0 0 0 0 0 0 0\n",
      " 0 0 0 0 0 0 0 0 0 0 0 0 0 1 1 1 1 1 1 1 1 1 1 1 1 1 1 1 1 1 1 1 1 1 1 1 1\n",
      " 1 1 1 1 1 1 1 1 1 1 1 1 1 1 1 1 1 1 1 1 1 1 1 1 1 1]\n",
      "learnt label  [0 0 0 0 0 0 0 0 0 0 0 0 0 0 0 0 0 0 0 0 0 0 0 0 0 0 0 0 0 0 0 0 0 0 0 0 0\n",
      " 0 0 0 0 0 0 0 0 0 0 0 0 0 1 1 1 1 1 1 1 1 1 1 1 1 1 1 1 0 1 1 1 1 1 1 1 1\n",
      " 1 1 1 1 1 1 1 1 1 1 1 1 1 1 1 1 1 1 1 1 1 1 1 1 1 1]\n",
      "number of mislabel: 1.0\n"
     ]
    }
   ],
   "source": [
    "print('initial parameters:', params_history[0])\n",
    "print('learnt_parameters:', params_history[-1])\n",
    "\n",
    "print('-------------------------------')\n",
    "print('train dataset')\n",
    "\n",
    "learnt_label_train = np.array([0.0 for i in range(len(t))])\n",
    "for i in range(len(learnt_label_train)):\n",
    "    learnt_label_train[i] = discriminator(x1[i], x2[i], params_history[-1])\n",
    "learnt_label_train = np.round(learnt_label_train).astype(int)\n",
    "n_miss_train = sum(abs(t - learnt_label_train))\n",
    "t = t.astype(int)\n",
    "\n",
    "print('teacher label', t)\n",
    "print('learnt label ', learnt_label_train)\n",
    "print('number of mislabel:', n_miss_train)\n",
    "\n",
    "print('-------------------------------')\n",
    "print('test dataset')\n",
    "\n",
    "learnt_label_test = np.array([0.0 for i in range(len(t_test))])\n",
    "for i in range(len(learnt_label_test)):\n",
    "    learnt_label_test[i] = discriminator(x1_test[i], x2_test[i], params_history[-1])\n",
    "learnt_label_test = np.round(learnt_label_test).astype(int)\n",
    "n_miss_test = sum(abs(t_test - learnt_label_test))\n",
    "t_test = t_test.astype(int)\n",
    "\n",
    "print('teacher label', t_test)\n",
    "print('learnt label ',learnt_label_test)\n",
    "print('number of mislabel:', n_miss_test)"
   ]
  },
  {
   "cell_type": "code",
   "execution_count": 21,
   "id": "d8d50cbc",
   "metadata": {},
   "outputs": [
    {
     "data": {
      "application/vnd.jupyter.widget-view+json": {
       "model_id": "be622a2eb0024317bb1960888e1e5fd0",
       "version_major": 2,
       "version_minor": 0
      },
      "text/plain": [
       "  0%|          | 0/100 [00:00<?, ?it/s]"
      ]
     },
     "metadata": {},
     "output_type": "display_data"
    },
    {
     "data": {
      "image/png": "[encoded data removed]",
      "text/plain": [
       "<Figure size 432x288 with 2 Axes>"
      ]
     },
     "metadata": {
      "needs_background": "light"
     },
     "output_type": "display_data"
    }
   ],
   "source": [
    "x1_lin = np.linspace(-1.5, 2.5, 100)\n",
    "x2_lin = np.linspace(-1, 1.5, 100)\n",
    "learnt_label = np.zeros((len(x1_lin), len(x2_lin)))\n",
    "value = np.zeros_like(learnt_label)\n",
    "for i in tqdm(range(len(x1_lin))):\n",
    "    for j in range(len(x2_lin)):\n",
    "        value[j,i] = discriminator(x1_lin[i], x2_lin[j], params_history[-1])\n",
    "        if value[j,i] > 0.5:\n",
    "            learnt_label[j,i] = 1\n",
    "        else:\n",
    "            learnt_label[j,i] = 0\n",
    "\n",
    "plt.pcolor(x1_lin, x2_lin, learnt_label, shading=\"nearest\", cmap=\"gray\")\n",
    "plt.colorbar()\n",
    "plt.scatter(x1_t0, x2_t0, color='blue')\n",
    "plt.scatter(x1_t1, x2_t1, color='red')\n",
    "plt.xlabel(r\"$x_1$\")\n",
    "plt.ylabel(r\"$x_2$\")\n",
    "plt.show()"
   ]
  },
  {
   "cell_type": "markdown",
   "id": "b79a791c",
   "metadata": {},
   "source": [
    "## Blobs"
   ]
  },
  {
   "cell_type": "code",
   "execution_count": 22,
   "id": "af776dfa",
   "metadata": {},
   "outputs": [
    {
     "name": "stdout",
     "output_type": "stream",
     "text": [
      "[ 4.44097997e-01  1.83773582e-01  2.92533998e-01  1.12471455e+00\n",
      "  9.45121887e-01  3.47186679e-01  4.60360226e-01 -2.35350010e-01\n",
      "  8.29560666e-01  9.08591004e-02  2.35299052e-01  3.29843646e-01\n",
      " -5.07217751e-01  1.01457075e+00 -1.14082639e-01  9.25900977e-01\n",
      " -2.20061366e-03  1.06207278e+00  4.09271686e-01  9.99162743e-01\n",
      "  2.42687954e-01  4.69258545e-01 -9.49889850e-01  1.03205278e+00\n",
      "  2.06536474e-01  1.50222387e+00 -1.02471934e-01  4.86069941e-01\n",
      "  7.26952331e-01  1.31311629e-01  8.80507159e-01  1.49966127e-01\n",
      "  1.06996801e+00  5.84451877e-01  5.09201107e-01  1.68872686e-01\n",
      "  2.13728216e-01  8.20601509e-01 -1.89902726e-01  1.62998687e-01\n",
      " -3.91354422e-03  2.45346703e-01  5.80510633e-01  1.02745508e+00\n",
      "  7.87335628e-01  4.43298521e-01  1.37268774e+00  1.70615271e-01\n",
      "  7.68247823e-02  8.31893924e-01 -2.10534543e+00 -1.08112729e+00\n",
      " -1.91554469e+00 -2.73406727e+00 -1.55734484e+00 -3.06348874e+00\n",
      " -1.88176210e+00 -2.04847058e+00 -2.05140651e+00 -2.04543536e+00\n",
      " -2.04642593e+00 -1.89438997e+00 -2.02982774e+00 -2.27554148e+00\n",
      " -2.38456277e+00 -2.54699807e+00 -2.60580737e+00 -2.64734319e+00\n",
      " -2.11792654e+00 -1.53899178e+00 -1.83255383e+00 -1.94717379e+00\n",
      " -1.66397093e+00 -6.85013423e-01 -2.75319696e+00 -1.93135452e+00\n",
      " -2.02420409e+00 -1.70647003e+00 -2.39850689e+00 -2.32087569e+00\n",
      " -1.55605343e+00 -1.63868837e+00 -2.02729835e+00 -2.66050101e+00\n",
      " -1.06778622e+00 -2.40415986e+00 -1.66027380e+00 -1.17137667e+00\n",
      " -2.02194528e+00 -2.41958135e+00 -2.16921202e+00 -2.41034806e+00\n",
      " -2.09410200e+00 -1.97072422e+00 -1.51732021e+00 -2.20962135e+00\n",
      " -2.11187472e+00 -1.53298002e+00 -1.94712400e+00 -2.58884973e+00]\n",
      "[0. 0. 0. 0. 0. 0. 0. 0. 0. 0. 0. 0. 0. 0. 0. 0. 0. 0. 0. 0. 0. 0. 0. 0.\n",
      " 0. 0. 0. 0. 0. 0. 0. 0. 0. 0. 0. 0. 0. 0. 0. 0. 0. 0. 0. 0. 0. 0. 0. 0.\n",
      " 0. 0. 1. 1. 1. 1. 1. 1. 1. 1. 1. 1. 1. 1. 1. 1. 1. 1. 1. 1. 1. 1. 1. 1.\n",
      " 1. 1. 1. 1. 1. 1. 1. 1. 1. 1. 1. 1. 1. 1. 1. 1. 1. 1. 1. 1. 1. 1. 1. 1.\n",
      " 1. 1. 1. 1.]\n"
     ]
    },
    {
     "data": {
      "image/png": "[encoded data removed]",
      "text/plain": [
       "<Figure size 576x504 with 1 Axes>"
      ]
     },
     "metadata": {
      "needs_background": "light"
     },
     "output_type": "display_data"
    }
   ],
   "source": [
    "from sklearn.datasets import make_blobs\n",
    "\n",
    "n_each_data_train = 50\n",
    "n_each_data_test = 50\n",
    " \n",
    "x, y = make_blobs(n_samples=2*(n_each_data_train+n_each_data_test), n_features=2, centers=2, \n",
    "                  cluster_std=0.5, center_box=(-5.0,5.0), shuffle=True, random_state=3,)\n",
    "\n",
    "x1_t0, x2_t0 = x[y==0,0], x[y==0,1]\n",
    "x1_t1, x2_t1 = x[y==1,0], x[y==1,1]\n",
    "\n",
    "x1_t0_train = x1_t0[0:n_each_data_train]\n",
    "x2_t0_train = x2_t0[0:n_each_data_train]\n",
    "x1_t1_train = x1_t1[0:n_each_data_train]\n",
    "x2_t1_train = x2_t1[0:n_each_data_train]\n",
    "\n",
    "x1_t0_test = x1_t0[n_each_data_train:n_each_data_train+n_each_data_test]\n",
    "x2_t0_test = x2_t0[n_each_data_train:n_each_data_train+n_each_data_test]\n",
    "x1_t1_test = x1_t1[n_each_data_train:n_each_data_train+n_each_data_test]\n",
    "x2_t1_test = x2_t1[n_each_data_train:n_each_data_train+n_each_data_test]\n",
    "\n",
    "t0_train, t1_train = np.zeros(n_each_data_train), np.ones(n_each_data_train)\n",
    "t0_test, t1_test = np.zeros(n_each_data_test), np.ones(n_each_data_test)\n",
    "\n",
    "x1 = np.concatenate([x1_t0_train, x1_t1_train])\n",
    "x2 = np.concatenate([x2_t0_train, x2_t1_train])\n",
    "t = np.concatenate([t0_train, t1_train])\n",
    "\n",
    "x1_test = np.concatenate([x1_t0_test, x1_t1_test])\n",
    "x2_test = np.concatenate([x2_t0_test, x2_t1_test])\n",
    "t_test = np.concatenate([t0_test, t1_test])\n",
    "\n",
    "print(x1)\n",
    "print(t)\n",
    "\n",
    "plt.figure(figsize=(8, 7))\n",
    " \n",
    "plt.scatter(x1_t0, x2_t0, marker='o', s=25, label=\"t = 0\")\n",
    "plt.scatter(x1_t1, x2_t1, marker='o', s=25, label=\"t = 1\")\n",
    "plt.legend()\n",
    "plt.xlabel(\"x1\")\n",
    "plt.ylabel(\"x2\")\n",
    "plt.show()"
   ]
  },
  {
   "cell_type": "code",
   "execution_count": 23,
   "id": "d3a8dd86",
   "metadata": {},
   "outputs": [
    {
     "name": "stdout",
     "output_type": "stream",
     "text": [
      "1 cost 0.6290411445265331\n",
      "2 cost 0.3683598031517619\n",
      "3 cost 0.2620479551681123\n",
      "4 cost 0.14261612938507348\n",
      "5 cost 0.10792263602364763\n",
      "6 cost 0.05325053492394152\n",
      "7 cost 0.025084841783995313\n",
      "8 cost 0.011611227593632756\n",
      "9 cost 0.0032925348021670027\n",
      "10 cost 0.002040126931041781\n",
      "11 cost 0.001057162509190959\n",
      "12 cost 0.0006166620829519055\n",
      "13 cost 0.0003609063074740786\n",
      "14 cost 0.00022243352683559575\n",
      "15 cost 0.0001522901084177009\n",
      "16 cost 0.0001366408706859382\n",
      "17 cost 0.00011956605074702423\n",
      "18 cost 9.57738180664704e-05\n",
      "19 cost 8.859275211801717e-05\n",
      "20 cost 8.692764267063672e-05\n",
      "21 cost 8.481575896911949e-05\n",
      "22 cost 8.113456088035307e-05\n",
      "23 cost 7.458594282324235e-05\n",
      "24 cost 6.320159061377377e-05\n",
      "25 cost 4.492330835457307e-05\n",
      "26 cost 2.5385442347891008e-05\n",
      "27 cost 1.4078579874999502e-05\n",
      "28 cost 6.883512694109119e-06\n",
      "29 cost 3.0107708216788206e-06\n",
      "30 cost 1.4980277253062824e-06\n",
      "31 cost 9.792099130377636e-07\n",
      "32 cost 7.149222266448509e-07\n",
      "33 cost 4.886380398046159e-07\n",
      "34 cost 1.9118704795390073e-07\n",
      "35 cost 1.7771962736463384e-07\n",
      "36 cost 1.7631371884138994e-07\n",
      "37 cost 1.7487447236724662e-07\n",
      "38 cost 1.724519736013546e-07\n",
      "39 cost 1.6814788683720643e-07\n",
      "40 cost 1.603805508541443e-07\n",
      "41 cost 1.4652245665591003e-07\n",
      "Optimization terminated successfully.\n",
      "         Current function value: 0.000000\n",
      "         Iterations: 41\n",
      "         Function evaluations: 414\n",
      "         Gradient evaluations: 46\n",
      "time 43.00566739999999 s\n"
     ]
    },
    {
     "data": {
      "image/png": "[encoded data removed]",
      "text/plain": [
       "<Figure size 432x288 with 1 Axes>"
      ]
     },
     "metadata": {
      "needs_background": "light"
     },
     "output_type": "display_data"
    }
   ],
   "source": [
    "depth = 1\n",
    "\n",
    "# 学習\n",
    "params = np.random.normal(0, 0.1, [7*depth + 1]) # 最初のパラメータ\n",
    "maxiter = 100\n",
    "\n",
    "params_history = []\n",
    "params_history.append(params)\n",
    "cost_history = []\n",
    "cost_history.append(cost(params))\n",
    "\n",
    "method = \"BFGS\"\n",
    "options = {\"disp\": True, \"maxiter\": maxiter}\n",
    "\n",
    "start = time.perf_counter()\n",
    "opt = scipy.optimize.minimize(cost, params, method=method,\n",
    "                              callback=lambda x: callback(x), options=options)\n",
    "end = time.perf_counter()\n",
    "\n",
    "print('time', end - start, 's')\n",
    "nit = opt['nit']\n",
    "plt.plot(np.linspace(0, nit, nit+1), cost_history)\n",
    "plt.yscale('log')\n",
    "plt.xlabel('step')\n",
    "plt.ylabel('cost function')\n",
    "plt.show()"
   ]
  },
  {
   "cell_type": "code",
   "execution_count": 24,
   "id": "6a602e6b",
   "metadata": {},
   "outputs": [
    {
     "name": "stdout",
     "output_type": "stream",
     "text": [
      "initial parameters: [ 0.00663932  0.14379017  0.06598695 -0.01028692 -0.1418387  -0.06650375\n",
      "  0.02874182 -0.12619529]\n",
      "learnt_parameters: [-2.35053151e-01  5.62435792e-01  5.64241303e-01  2.30829114e-03\n",
      " -9.92056585e-02  1.27793806e-01 -6.04099954e-01  3.74278207e+00]\n",
      "-------------------------------\n",
      "train dataset\n",
      "teacher label [0 0 0 0 0 0 0 0 0 0 0 0 0 0 0 0 0 0 0 0 0 0 0 0 0 0 0 0 0 0 0 0 0 0 0 0 0\n",
      " 0 0 0 0 0 0 0 0 0 0 0 0 0 1 1 1 1 1 1 1 1 1 1 1 1 1 1 1 1 1 1 1 1 1 1 1 1\n",
      " 1 1 1 1 1 1 1 1 1 1 1 1 1 1 1 1 1 1 1 1 1 1 1 1 1 1]\n",
      "learnt label  [0 0 0 0 0 0 0 0 0 0 0 0 0 0 0 0 0 0 0 0 0 0 0 0 0 0 0 0 0 0 0 0 0 0 0 0 0\n",
      " 0 0 0 0 0 0 0 0 0 0 0 0 0 1 1 1 1 1 1 1 1 1 1 1 1 1 1 1 1 1 1 1 1 1 1 1 1\n",
      " 1 1 1 1 1 1 1 1 1 1 1 1 1 1 1 1 1 1 1 1 1 1 1 1 1 1]\n",
      "number of mislabel: 0.0\n",
      "-------------------------------\n",
      "test dataset\n",
      "teacher label [0 0 0 0 0 0 0 0 0 0 0 0 0 0 0 0 0 0 0 0 0 0 0 0 0 0 0 0 0 0 0 0 0 0 0 0 0\n",
      " 0 0 0 0 0 0 0 0 0 0 0 0 0 1 1 1 1 1 1 1 1 1 1 1 1 1 1 1 1 1 1 1 1 1 1 1 1\n",
      " 1 1 1 1 1 1 1 1 1 1 1 1 1 1 1 1 1 1 1 1 1 1 1 1 1 1]\n",
      "learnt label  [0 0 0 0 0 0 0 0 0 0 0 0 0 0 0 0 0 0 0 0 0 0 0 0 0 0 0 0 0 0 0 0 0 0 0 0 0\n",
      " 0 0 0 0 0 0 0 0 0 0 0 0 0 1 1 1 1 1 1 1 1 1 1 1 1 1 1 1 1 1 1 1 1 1 1 1 1\n",
      " 1 1 1 1 1 1 1 1 1 1 1 1 1 1 1 1 1 1 1 1 1 1 1 1 1 1]\n",
      "number of mislabel: 0.0\n"
     ]
    }
   ],
   "source": [
    "print('initial parameters:', params_history[0])\n",
    "print('learnt_parameters:', params_history[-1])\n",
    "\n",
    "print('-------------------------------')\n",
    "print('train dataset')\n",
    "\n",
    "learnt_label_train = np.array([0.0 for i in range(len(t))])\n",
    "for i in range(len(learnt_label_train)):\n",
    "    learnt_label_train[i] = discriminator(x1[i], x2[i], params_history[-1])\n",
    "learnt_label_train = np.round(learnt_label_train).astype(int)\n",
    "n_miss_train = sum(abs(t - learnt_label_train))\n",
    "t = t.astype(int)\n",
    "\n",
    "print('teacher label', t)\n",
    "print('learnt label ', learnt_label_train)\n",
    "print('number of mislabel:', n_miss_train)\n",
    "\n",
    "print('-------------------------------')\n",
    "print('test dataset')\n",
    "\n",
    "learnt_label_test = np.array([0.0 for i in range(len(t_test))])\n",
    "for i in range(len(learnt_label_test)):\n",
    "    learnt_label_test[i] = discriminator(x1_test[i], x2_test[i], params_history[-1])\n",
    "learnt_label_test = np.round(learnt_label_test).astype(int)\n",
    "n_miss_test = sum(abs(t_test - learnt_label_test))\n",
    "t_test = t_test.astype(int)\n",
    "\n",
    "print('teacher label', t_test)\n",
    "print('learnt label ',learnt_label_test)\n",
    "print('number of mislabel:', n_miss_test)"
   ]
  },
  {
   "cell_type": "code",
   "execution_count": 25,
   "id": "6b7b0278",
   "metadata": {},
   "outputs": [
    {
     "data": {
      "application/vnd.jupyter.widget-view+json": {
       "model_id": "d1ab44a3bb5543858317e5854dcfd4fa",
       "version_major": 2,
       "version_minor": 0
      },
      "text/plain": [
       "  0%|          | 0/100 [00:00<?, ?it/s]"
      ]
     },
     "metadata": {},
     "output_type": "display_data"
    },
    {
     "data": {
      "image/png": "[encoded data removed]",
      "text/plain": [
       "<Figure size 432x288 with 2 Axes>"
      ]
     },
     "metadata": {
      "needs_background": "light"
     },
     "output_type": "display_data"
    }
   ],
   "source": [
    "x1_lin = np.linspace(-3.5, 2, 100)\n",
    "x2_lin = np.linspace(-1.5, 3.5, 100)\n",
    "learnt_label = np.zeros((len(x1_lin), len(x2_lin)))\n",
    "value = np.zeros_like(learnt_label)\n",
    "for i in tqdm(range(len(x1_lin))):\n",
    "    for j in range(len(x2_lin)):\n",
    "        value[j,i] = discriminator(x1_lin[i], x2_lin[j], params_history[-1])\n",
    "        if value[j,i] > 0.5:\n",
    "            learnt_label[j,i] = 1\n",
    "        else:\n",
    "            learnt_label[j,i] = 0\n",
    "\n",
    "plt.pcolor(x1_lin, x2_lin, learnt_label, shading=\"nearest\", cmap=\"gray\")\n",
    "plt.colorbar()\n",
    "plt.scatter(x1_t0, x2_t0, color='blue')\n",
    "plt.scatter(x1_t1, x2_t1, color='red')\n",
    "plt.xlabel(r\"$x_1$\")\n",
    "plt.ylabel(r\"$x_2$\")\n",
    "plt.show()"
   ]
  },
  {
   "cell_type": "markdown",
   "id": "7a7f6ace",
   "metadata": {},
   "source": [
    "## Circles"
   ]
  },
  {
   "cell_type": "code",
   "execution_count": 26,
   "id": "c9c0ab3c",
   "metadata": {},
   "outputs": [
    {
     "name": "stdout",
     "output_type": "stream",
     "text": [
      "[-0.03190127  0.08274053 -0.16058388  0.21113828 -0.00505293 -0.15642995\n",
      "  0.16609505  0.08273599 -0.18499502 -0.1427308  -0.17153917  0.09551509\n",
      " -0.10491614 -0.00713407 -0.14732465 -0.49370938 -0.02084201 -0.11415317\n",
      " -0.15729459  0.05505298  0.05868738 -0.11744406 -0.06106753 -0.10070878\n",
      " -0.01960367 -0.03171476 -0.57959966  0.19682313  0.21265156  0.0786386\n",
      " -0.04619745  0.29571994 -0.02663912 -0.2246165   0.0162749   0.16937464\n",
      " -0.24716181  0.04931894  0.17050611  0.29897871  0.08792805  0.05344897\n",
      "  0.10008946  0.31092548  0.01378217 -0.17504021 -0.05402217 -0.25082317\n",
      " -0.18503418 -0.25200824 -0.94465953 -1.14869369  0.39216127 -0.85684052\n",
      " -0.40046915  0.50735524 -0.14320516  0.70687613  0.98277608 -0.98941462\n",
      " -0.90443069  0.47824105  1.26419112  0.63244487  0.84521441 -0.2915405\n",
      " -1.08451305 -0.73989865 -0.59940267  0.94303075 -0.09822512 -0.08405574\n",
      "  0.81723821 -0.69286316  0.34321514 -0.46322952  0.73697352  0.42683365\n",
      "  0.25335868  0.08567518  0.08810988 -0.02790555  0.30609894 -0.66234701\n",
      "  0.50212892  0.47959475  0.94026695  0.20188732  0.89125224  0.93283874\n",
      " -0.85897167  0.24249714 -1.02784877 -1.12738328  0.48803371  0.67466233\n",
      " -0.63645575 -0.95681365 -0.18385512 -0.41551373]\n",
      "[0. 0. 0. 0. 0. 0. 0. 0. 0. 0. 0. 0. 0. 0. 0. 0. 0. 0. 0. 0. 0. 0. 0. 0.\n",
      " 0. 0. 0. 0. 0. 0. 0. 0. 0. 0. 0. 0. 0. 0. 0. 0. 0. 0. 0. 0. 0. 0. 0. 0.\n",
      " 0. 0. 1. 1. 1. 1. 1. 1. 1. 1. 1. 1. 1. 1. 1. 1. 1. 1. 1. 1. 1. 1. 1. 1.\n",
      " 1. 1. 1. 1. 1. 1. 1. 1. 1. 1. 1. 1. 1. 1. 1. 1. 1. 1. 1. 1. 1. 1. 1. 1.\n",
      " 1. 1. 1. 1.]\n"
     ]
    },
    {
     "data": {
      "image/png": "[encoded data removed]",
      "text/plain": [
       "<Figure size 576x504 with 1 Axes>"
      ]
     },
     "metadata": {
      "needs_background": "light"
     },
     "output_type": "display_data"
    }
   ],
   "source": [
    "from sklearn.datasets import make_circles\n",
    "\n",
    "n_each_data_train = 50\n",
    "n_each_data_test = 50\n",
    " \n",
    "x, y = make_circles(n_samples=2*(n_each_data_train+n_each_data_test), shuffle=True, noise = 0.2, \n",
    "                    random_state=3, factor=0.1)\n",
    "\n",
    "x1_t0, x2_t0 = x[y==1,0], x[y==1,1]\n",
    "x1_t1, x2_t1 = x[y==0,0], x[y==0,1]\n",
    "\n",
    "x1_t0_train = x1_t0[0:n_each_data_train]\n",
    "x2_t0_train = x2_t0[0:n_each_data_train]\n",
    "x1_t1_train = x1_t1[0:n_each_data_train]\n",
    "x2_t1_train = x2_t1[0:n_each_data_train]\n",
    "\n",
    "x1_t0_test = x1_t0[n_each_data_train:n_each_data_train+n_each_data_test]\n",
    "x2_t0_test = x2_t0[n_each_data_train:n_each_data_train+n_each_data_test]\n",
    "x1_t1_test = x1_t1[n_each_data_train:n_each_data_train+n_each_data_test]\n",
    "x2_t1_test = x2_t1[n_each_data_train:n_each_data_train+n_each_data_test]\n",
    "\n",
    "t0_train, t1_train = np.zeros(n_each_data_train), np.ones(n_each_data_train)\n",
    "t0_test, t1_test = np.zeros(n_each_data_test), np.ones(n_each_data_test)\n",
    "\n",
    "x1 = np.concatenate([x1_t0_train, x1_t1_train])\n",
    "x2 = np.concatenate([x2_t0_train, x2_t1_train])\n",
    "t = np.concatenate([t0_train, t1_train])\n",
    "\n",
    "x1_test = np.concatenate([x1_t0_test, x1_t1_test])\n",
    "x2_test = np.concatenate([x2_t0_test, x2_t1_test])\n",
    "t_test = np.concatenate([t0_test, t1_test])\n",
    "\n",
    "print(x1)\n",
    "print(t)\n",
    "\n",
    "plt.figure(figsize=(8, 7))\n",
    " \n",
    "plt.scatter(x1_t0, x2_t0, marker='o', s=25, label=\"t = 0\")\n",
    "plt.scatter(x1_t1, x2_t1, marker='o', s=25, label=\"t = 1\")\n",
    "plt.legend()\n",
    "plt.xlabel(\"x1\")\n",
    "plt.ylabel(\"x2\")\n",
    "plt.show()"
   ]
  },
  {
   "cell_type": "code",
   "execution_count": 27,
   "id": "612f33ef",
   "metadata": {},
   "outputs": [
    {
     "name": "stdout",
     "output_type": "stream",
     "text": [
      "1 cost 0.9450733964854521\n",
      "2 cost 0.5304859999834993\n",
      "3 cost 0.45950245141587603\n",
      "4 cost 0.4159376514125389\n",
      "5 cost 0.3961104233120545\n",
      "6 cost 0.3687974280928467\n",
      "7 cost 0.32918413536902025\n",
      "8 cost 0.3156941692362028\n",
      "9 cost 0.2989535571522099\n",
      "10 cost 0.2838008984208515\n",
      "11 cost 0.276879622019449\n",
      "12 cost 0.26591123242006715\n",
      "13 cost 0.25025365929946564\n",
      "14 cost 0.239414441254861\n",
      "15 cost 0.22772204621601422\n",
      "16 cost 0.22666817660238997\n",
      "17 cost 0.22494303686139777\n",
      "18 cost 0.22212156204197575\n",
      "19 cost 0.21779477142061843\n",
      "20 cost 0.212115348900843\n",
      "21 cost 0.20256634334241547\n",
      "22 cost 0.18535552460070404\n",
      "23 cost 0.17375996725801013\n",
      "24 cost 0.16021715556620653\n",
      "25 cost 0.15384577230642346\n",
      "26 cost 0.15067356258413503\n",
      "27 cost 0.1469435803973302\n",
      "28 cost 0.14521639022823082\n",
      "29 cost 0.142513877021876\n",
      "30 cost 0.13959635640019905\n",
      "31 cost 0.13672085869605877\n",
      "32 cost 0.1322850773444503\n",
      "33 cost 0.12578491715871495\n",
      "34 cost 0.12138109765471664\n",
      "35 cost 0.11410789543927176\n",
      "36 cost 0.10617480603542248\n",
      "37 cost 0.09920392693446349\n",
      "38 cost 0.096299453009163\n",
      "39 cost 0.09469764864243058\n",
      "40 cost 0.09286988253894218\n",
      "41 cost 0.09190308395484764\n",
      "42 cost 0.09071490543537906\n",
      "43 cost 0.08622700548114107\n",
      "44 cost 0.08565002669627496\n",
      "45 cost 0.08473003366004374\n",
      "46 cost 0.0833879971735823\n",
      "47 cost 0.08208762476740689\n",
      "48 cost 0.08166676254954451\n",
      "49 cost 0.08090607130862872\n",
      "50 cost 0.0802295085431748\n",
      "51 cost 0.0791310707459421\n",
      "52 cost 0.07868295277548865\n",
      "53 cost 0.07788692289343589\n",
      "54 cost 0.07648646006826963\n",
      "55 cost 0.07426827695841541\n",
      "56 cost 0.07204099865563934\n",
      "57 cost 0.07075414018790084\n",
      "58 cost 0.06850303144238579\n",
      "59 cost 0.06742480368232108\n",
      "60 cost 0.06656246126193123\n",
      "61 cost 0.06599210124356725\n",
      "62 cost 0.06520791939117339\n",
      "63 cost 0.06458538057339909\n",
      "64 cost 0.0642070731787905\n",
      "65 cost 0.06387475457692299\n",
      "66 cost 0.0638408730917844\n",
      "67 cost 0.0638055533553271\n",
      "68 cost 0.06376103539824819\n",
      "69 cost 0.06374686151379441\n",
      "70 cost 0.06372326188211128\n",
      "71 cost 0.0636922488515624\n",
      "72 cost 0.06369066343125858\n",
      "73 cost 0.06368797727035805\n",
      "74 cost 0.06368636582894674\n",
      "75 cost 0.0636861462362968\n",
      "76 cost 0.06368608733592011\n",
      "77 cost 0.06368598559791314\n",
      "78 cost 0.06368581070785105\n",
      "79 cost 0.06368552113760564\n",
      "80 cost 0.0636850329096717\n",
      "81 cost 0.06368417879303044\n",
      "82 cost 0.0636826502186372\n",
      "83 cost 0.06367987873880031\n",
      "84 cost 0.0636749235524233\n",
      "85 cost 0.06366618836416485\n",
      "86 cost 0.06365144385589779\n",
      "87 cost 0.0636282307245556\n",
      "88 cost 0.06359321536339277\n",
      "89 cost 0.06357034476218457\n",
      "90 cost 0.06354265819457398\n",
      "91 cost 0.06351090227236307\n",
      "92 cost 0.06345157177674378\n",
      "93 cost 0.06341804113199835\n",
      "94 cost 0.06336142121538019\n",
      "95 cost 0.06328215708733129\n",
      "96 cost 0.06314641116272177\n",
      "97 cost 0.06297173704877719\n",
      "98 cost 0.06285291644094881\n",
      "99 cost 0.06280278775903425\n",
      "100 cost 0.0627241123430976\n",
      "Warning: Maximum number of iterations has been exceeded.\n",
      "         Current function value: 0.062724\n",
      "         Iterations: 100\n",
      "         Function evaluations: 1053\n",
      "         Gradient evaluations: 117\n",
      "time 110.27807409999997 s\n"
     ]
    },
    {
     "data": {
      "image/png": "[encoded data removed]",
      "text/plain": [
       "<Figure size 432x288 with 1 Axes>"
      ]
     },
     "metadata": {
      "needs_background": "light"
     },
     "output_type": "display_data"
    }
   ],
   "source": [
    "depth = 1\n",
    "\n",
    "# 学習\n",
    "params = np.random.normal(0, 0.1, [7*depth + 1]) # 最初のパラメータ\n",
    "maxiter = 100\n",
    "\n",
    "params_history = []\n",
    "params_history.append(params)\n",
    "cost_history = []\n",
    "cost_history.append(cost(params))\n",
    "\n",
    "method = \"BFGS\"\n",
    "options = {\"disp\": True, \"maxiter\": maxiter}\n",
    "\n",
    "start = time.perf_counter()\n",
    "opt = scipy.optimize.minimize(cost, params, method=method,\n",
    "                              callback=lambda x: callback(x), options=options)\n",
    "end = time.perf_counter()\n",
    "\n",
    "print('time', end - start, 's')\n",
    "nit = opt['nit']\n",
    "plt.plot(np.linspace(0, nit, nit+1), cost_history)\n",
    "plt.yscale('log')\n",
    "plt.xlabel('step')\n",
    "plt.ylabel('cost function')\n",
    "plt.show()"
   ]
  },
  {
   "cell_type": "code",
   "execution_count": 28,
   "id": "c0c9acce",
   "metadata": {},
   "outputs": [
    {
     "name": "stdout",
     "output_type": "stream",
     "text": [
      "initial parameters: [ 0.01302884  0.00653518 -0.02140593 -0.12317383  0.04460896 -0.15475837\n",
      "  0.07742512  0.00507051]\n",
      "learnt_parameters: [-0.11615354 -1.19413608 -0.39810006 -1.09980372 -0.92421184  1.48313568\n",
      "  3.32976866  3.81909046]\n",
      "-------------------------------\n",
      "train dataset\n",
      "teacher label [0 0 0 0 0 0 0 0 0 0 0 0 0 0 0 0 0 0 0 0 0 0 0 0 0 0 0 0 0 0 0 0 0 0 0 0 0\n",
      " 0 0 0 0 0 0 0 0 0 0 0 0 0 1 1 1 1 1 1 1 1 1 1 1 1 1 1 1 1 1 1 1 1 1 1 1 1\n",
      " 1 1 1 1 1 1 1 1 1 1 1 1 1 1 1 1 1 1 1 1 1 1 1 1 1 1]\n",
      "learnt label  [0 0 0 0 0 0 0 0 0 0 0 0 0 0 0 0 0 0 0 0 0 0 0 0 0 0 1 0 0 0 0 0 0 0 0 0 0\n",
      " 0 0 0 0 0 0 0 0 0 0 0 0 0 1 1 1 1 1 1 1 1 1 1 1 1 1 1 1 1 1 1 0 1 1 1 1 1\n",
      " 1 1 1 1 1 1 1 1 1 1 1 1 1 1 1 1 1 1 1 1 1 1 1 1 1 1]\n",
      "number of mislabel: 2.0\n",
      "-------------------------------\n",
      "test dataset\n",
      "teacher label [0 0 0 0 0 0 0 0 0 0 0 0 0 0 0 0 0 0 0 0 0 0 0 0 0 0 0 0 0 0 0 0 0 0 0 0 0\n",
      " 0 0 0 0 0 0 0 0 0 0 0 0 0 1 1 1 1 1 1 1 1 1 1 1 1 1 1 1 1 1 1 1 1 1 1 1 1\n",
      " 1 1 1 1 1 1 1 1 1 1 1 1 1 1 1 1 1 1 1 1 1 1 1 1 1 1]\n",
      "learnt label  [1 0 0 0 0 0 0 0 0 0 0 0 0 0 0 0 0 1 0 0 0 0 0 0 0 0 0 0 0 0 0 0 0 0 0 0 0\n",
      " 0 0 0 0 0 0 0 0 0 0 0 0 0 1 1 1 1 1 1 1 1 1 1 1 1 1 0 1 0 1 1 1 1 1 1 1 1\n",
      " 1 1 1 1 1 1 1 1 1 1 1 1 1 1 1 1 1 1 1 1 1 1 1 1 1 1]\n",
      "number of mislabel: 4.0\n"
     ]
    }
   ],
   "source": [
    "print('initial parameters:', params_history[0])\n",
    "print('learnt_parameters:', params_history[-1])\n",
    "\n",
    "print('-------------------------------')\n",
    "print('train dataset')\n",
    "\n",
    "learnt_label_train = np.array([0.0 for i in range(len(t))])\n",
    "for i in range(len(learnt_label_train)):\n",
    "    learnt_label_train[i] = discriminator(x1[i], x2[i], params_history[-1])\n",
    "learnt_label_train = np.round(learnt_label_train).astype(int)\n",
    "n_miss_train = sum(abs(t - learnt_label_train))\n",
    "t = t.astype(int)\n",
    "\n",
    "print('teacher label', t)\n",
    "print('learnt label ', learnt_label_train)\n",
    "print('number of mislabel:', n_miss_train)\n",
    "\n",
    "print('-------------------------------')\n",
    "print('test dataset')\n",
    "\n",
    "learnt_label_test = np.array([0.0 for i in range(len(t_test))])\n",
    "for i in range(len(learnt_label_test)):\n",
    "    learnt_label_test[i] = discriminator(x1_test[i], x2_test[i], params_history[-1])\n",
    "learnt_label_test = np.round(learnt_label_test).astype(int)\n",
    "n_miss_test = sum(abs(t_test - learnt_label_test))\n",
    "t_test = t_test.astype(int)\n",
    "\n",
    "print('teacher label', t_test)\n",
    "print('learnt label ',learnt_label_test)\n",
    "print('number of mislabel:', n_miss_test)"
   ]
  },
  {
   "cell_type": "code",
   "execution_count": 29,
   "id": "474f792c",
   "metadata": {},
   "outputs": [
    {
     "data": {
      "application/vnd.jupyter.widget-view+json": {
       "model_id": "3dfc1085a3564b34a12d38a4ced10e25",
       "version_major": 2,
       "version_minor": 0
      },
      "text/plain": [
       "  0%|          | 0/100 [00:00<?, ?it/s]"
      ]
     },
     "metadata": {},
     "output_type": "display_data"
    },
    {
     "data": {
      "image/png": "[encoded data removed]",
      "text/plain": [
       "<Figure size 432x288 with 2 Axes>"
      ]
     },
     "metadata": {
      "needs_background": "light"
     },
     "output_type": "display_data"
    }
   ],
   "source": [
    "x1_lin = np.linspace(-1.5, 1.5, 100)\n",
    "x2_lin = np.linspace(-1.5, 1.5, 100)\n",
    "learnt_label = np.zeros((len(x1_lin), len(x2_lin)))\n",
    "value = np.zeros_like(learnt_label)\n",
    "for i in tqdm(range(len(x1_lin))):\n",
    "    for j in range(len(x2_lin)):\n",
    "        value[j,i] = discriminator(x1_lin[i], x2_lin[j], params_history[-1])\n",
    "        if value[j,i] > 0.5:\n",
    "            learnt_label[j,i] = 1\n",
    "        else:\n",
    "            learnt_label[j,i] = 0\n",
    "\n",
    "plt.pcolor(x1_lin, x2_lin, learnt_label, shading=\"nearest\", cmap=\"gray\")\n",
    "plt.colorbar()\n",
    "plt.scatter(x1_t0, x2_t0, color='blue')\n",
    "plt.scatter(x1_t1, x2_t1, color='red')\n",
    "plt.xlabel(r\"$x_1$\")\n",
    "plt.ylabel(r\"$x_2$\")\n",
    "plt.show()"
   ]
  },
  {
   "cell_type": "code",
   "execution_count": null,
   "id": "80aec622",
   "metadata": {},
   "outputs": [],
   "source": []
  },
  {
   "cell_type": "code",
   "execution_count": null,
   "id": "d49ab983",
   "metadata": {},
   "outputs": [],
   "source": []
  }
 ],
 "metadata": {
  "kernelspec": {
   "display_name": "Python 3 (ipykernel)",
   "language": "python",
   "name": "python3"
  },
  "language_info": {
   "codemirror_mode": {
    "name": "ipython",
    "version": 3
   },
   "file_extension": ".py",
   "mimetype": "text/x-python",
   "name": "python",
   "nbconvert_exporter": "python",
   "pygments_lexer": "ipython3",
   "version": "3.8.8"
  }
 },
 "nbformat": 4,
 "nbformat_minor": 5
}
